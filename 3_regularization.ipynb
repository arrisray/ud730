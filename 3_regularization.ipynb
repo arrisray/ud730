{
 "cells": [
  {
   "cell_type": "markdown",
   "metadata": {
    "colab_type": "text",
    "id": "kR-4eNdK6lYS"
   },
   "source": [
    "Deep Learning\n",
    "=============\n",
    "\n",
    "Assignment 3\n",
    "------------\n",
    "\n",
    "Previously in `2_fullyconnected.ipynb`, you trained a logistic regression and a neural network model.\n",
    "\n",
    "The goal of this assignment is to explore regularization techniques."
   ]
  },
  {
   "cell_type": "code",
   "execution_count": 1,
   "metadata": {
    "cellView": "both",
    "colab": {
     "autoexec": {
      "startup": false,
      "wait_interval": 0
     }
    },
    "colab_type": "code",
    "collapsed": true,
    "id": "JLpLa8Jt7Vu4"
   },
   "outputs": [],
   "source": [
    "# These are all the modules we'll be using later. Make sure you can import them\n",
    "# before proceeding further.\n",
    "from __future__ import print_function\n",
    "import numpy as np\n",
    "import tensorflow as tf\n",
    "from six.moves import cPickle as pickle"
   ]
  },
  {
   "cell_type": "markdown",
   "metadata": {
    "colab_type": "text",
    "id": "1HrCK6e17WzV"
   },
   "source": [
    "First reload the data we generated in _notmist.ipynb_."
   ]
  },
  {
   "cell_type": "code",
   "execution_count": 2,
   "metadata": {
    "cellView": "both",
    "colab": {
     "autoexec": {
      "startup": false,
      "wait_interval": 0
     },
     "output_extras": [
      {
       "item_id": 1
      }
     ]
    },
    "colab_type": "code",
    "collapsed": false,
    "executionInfo": {
     "elapsed": 11777,
     "status": "ok",
     "timestamp": 1449849322348,
     "user": {
      "color": "",
      "displayName": "",
      "isAnonymous": false,
      "isMe": true,
      "permissionId": "",
      "photoUrl": "",
      "sessionId": "0",
      "userId": ""
     },
     "user_tz": 480
    },
    "id": "y3-cj1bpmuxc",
    "outputId": "e03576f1-ebbe-4838-c388-f1777bcc9873"
   },
   "outputs": [
    {
     "name": "stdout",
     "output_type": "stream",
     "text": [
      "Training set (200000, 28, 28) (200000,)\n",
      "Validation set (10000, 28, 28) (10000,)\n",
      "Test set (10000, 28, 28) (10000,)\n"
     ]
    }
   ],
   "source": [
    "pickle_file = 'notMNIST.pickle'\n",
    "\n",
    "with open(pickle_file, 'rb') as f:\n",
    "  save = pickle.load(f)\n",
    "  train_dataset = save['train_dataset']\n",
    "  train_labels = save['train_labels']\n",
    "  valid_dataset = save['valid_dataset']\n",
    "  valid_labels = save['valid_labels']\n",
    "  test_dataset = save['test_dataset']\n",
    "  test_labels = save['test_labels']\n",
    "  del save  # hint to help gc free up memory\n",
    "  print('Training set', train_dataset.shape, train_labels.shape)\n",
    "  print('Validation set', valid_dataset.shape, valid_labels.shape)\n",
    "  print('Test set', test_dataset.shape, test_labels.shape)"
   ]
  },
  {
   "cell_type": "markdown",
   "metadata": {
    "colab_type": "text",
    "id": "L7aHrm6nGDMB"
   },
   "source": [
    "Reformat into a shape that's more adapted to the models we're going to train:\n",
    "- data as a flat matrix,\n",
    "- labels as float 1-hot encodings."
   ]
  },
  {
   "cell_type": "code",
   "execution_count": 3,
   "metadata": {
    "cellView": "both",
    "colab": {
     "autoexec": {
      "startup": false,
      "wait_interval": 0
     },
     "output_extras": [
      {
       "item_id": 1
      }
     ]
    },
    "colab_type": "code",
    "collapsed": false,
    "executionInfo": {
     "elapsed": 11728,
     "status": "ok",
     "timestamp": 1449849322356,
     "user": {
      "color": "",
      "displayName": "",
      "isAnonymous": false,
      "isMe": true,
      "permissionId": "",
      "photoUrl": "",
      "sessionId": "0",
      "userId": ""
     },
     "user_tz": 480
    },
    "id": "IRSyYiIIGIzS",
    "outputId": "3f8996ee-3574-4f44-c953-5c8a04636582"
   },
   "outputs": [
    {
     "name": "stdout",
     "output_type": "stream",
     "text": [
      "Training set (200000, 784) (200000, 10)\n",
      "Validation set (10000, 784) (10000, 10)\n",
      "Test set (10000, 784) (10000, 10)\n"
     ]
    }
   ],
   "source": [
    "image_size = 28\n",
    "num_labels = 10\n",
    "\n",
    "def reformat(dataset, labels):\n",
    "  dataset = dataset.reshape((-1, image_size * image_size)).astype(np.float32)\n",
    "  # Map 2 to [0.0, 1.0, 0.0 ...], 3 to [0.0, 0.0, 1.0 ...]\n",
    "  labels = (np.arange(num_labels) == labels[:,None]).astype(np.float32)\n",
    "  return dataset, labels\n",
    "train_dataset, train_labels = reformat(train_dataset, train_labels)\n",
    "valid_dataset, valid_labels = reformat(valid_dataset, valid_labels)\n",
    "test_dataset, test_labels = reformat(test_dataset, test_labels)\n",
    "print('Training set', train_dataset.shape, train_labels.shape)\n",
    "print('Validation set', valid_dataset.shape, valid_labels.shape)\n",
    "print('Test set', test_dataset.shape, test_labels.shape)"
   ]
  },
  {
   "cell_type": "code",
   "execution_count": 4,
   "metadata": {
    "cellView": "both",
    "colab": {
     "autoexec": {
      "startup": false,
      "wait_interval": 0
     }
    },
    "colab_type": "code",
    "collapsed": true,
    "id": "RajPLaL_ZW6w"
   },
   "outputs": [],
   "source": [
    "def accuracy(predictions, labels):\n",
    "  return (100.0 * np.sum(np.argmax(predictions, 1) == np.argmax(labels, 1))\n",
    "          / predictions.shape[0])"
   ]
  },
  {
   "cell_type": "markdown",
   "metadata": {
    "colab_type": "text",
    "id": "sgLbUAQ1CW-1"
   },
   "source": [
    "---\n",
    "Problem 1\n",
    "---------\n",
    "\n",
    "Introduce and tune L2 regularization for both logistic and neural network models. Remember that L2 amounts to adding a penalty on the norm of the weights to the loss. In TensorFlow, you can compute the L2 loss for a tensor `t` using `nn.l2_loss(t)`. The right amount of regularization should improve your validation / test accuracy.\n",
    "\n",
    "---"
   ]
  },
  {
   "cell_type": "code",
   "execution_count": 56,
   "metadata": {
    "collapsed": false
   },
   "outputs": [],
   "source": [
    "def generate_logistic_graph(batch_size):\n",
    "    \n",
    "    #######\n",
    "    # SETUP\n",
    "    #######\n",
    "\n",
    "    flat_image_size = image_size * image_size\n",
    "    regularization_beta = 5e-4\n",
    "\n",
    "    graph = tf.Graph()\n",
    "    with graph.as_default():\n",
    "\n",
    "        #######\n",
    "        # Input\n",
    "        #######\n",
    "\n",
    "        tf_train_dataset = tf.placeholder(tf.float32, shape=(batch_size, flat_image_size))\n",
    "        tf_train_labels = tf.placeholder(tf.float32, shape=(batch_size, num_labels))\n",
    "        tf_valid_dataset = tf.constant(valid_dataset)\n",
    "        tf_test_dataset = tf.constant(test_dataset)\n",
    "\n",
    "        ###########\n",
    "        # Variables\n",
    "        ###########\n",
    "\n",
    "        weights = tf.Variable(tf.truncated_normal([flat_image_size, num_labels]))\n",
    "        biases = tf.Variable(tf.zeros([num_labels]))\n",
    "\n",
    "        ##########\n",
    "        # Training\n",
    "        ##########\n",
    "\n",
    "        logits = tf.matmul(tf_train_dataset, weights) + biases\n",
    "        loss = tf.reduce_mean(tf.nn.softmax_cross_entropy_with_logits(logits, tf_train_labels))\n",
    "\n",
    "        # L2 Regularization\n",
    "\n",
    "        regularization = tf.nn.l2_loss(weights) + tf.nn.l2_loss(biases)\n",
    "        loss = loss + (regularization_beta * regularization)\n",
    "\n",
    "        # Optimizer\n",
    "\n",
    "        optimizer = tf.train.GradientDescentOptimizer(0.5).minimize(loss)\n",
    "\n",
    "        ############\n",
    "        # Prediction\n",
    "        ############\n",
    "\n",
    "        train_prediction = tf.nn.softmax(logits)\n",
    "        valid_prediction = tf.nn.softmax(tf.matmul(tf_valid_dataset, weights) + biases)\n",
    "        test_prediction = tf.nn.softmax(tf.matmul(tf_test_dataset, weights) + biases)\n",
    "        \n",
    "    return {\n",
    "        'graph': graph,\n",
    "        'tf_train_dataset': tf_train_dataset,\n",
    "        'tf_train_labels': tf_train_labels,\n",
    "        'tf_valid_dataset': tf_valid_dataset,\n",
    "        'tf_test_dataset': tf_test_dataset,\n",
    "        'loss': loss,\n",
    "        'optimizer': optimizer,\n",
    "        'train_prediction': train_prediction,\n",
    "        'valid_prediction': valid_prediction,\n",
    "        'test_prediction': test_prediction\n",
    "    }"
   ]
  },
  {
   "cell_type": "code",
   "execution_count": 63,
   "metadata": {
    "collapsed": true
   },
   "outputs": [],
   "source": [
    "def generate_nn_graph(batch_size, use_dropout = False):\n",
    "    \n",
    "    #######\n",
    "    # SETUP\n",
    "    #######\n",
    "\n",
    "    flat_image_size = image_size * image_size\n",
    "    num_hidden_nodes = 1024\n",
    "    regularization_beta = 5e-4\n",
    "\n",
    "    graph = tf.Graph()\n",
    "    with graph.as_default():\n",
    "\n",
    "        #######\n",
    "        # Input\n",
    "        #######\n",
    "\n",
    "        tf_train_dataset = tf.placeholder(tf.float32, shape=(batch_size, flat_image_size))\n",
    "        tf_train_labels = tf.placeholder(tf.float32, shape=(batch_size, num_labels))\n",
    "        tf_valid_dataset = tf.constant(valid_dataset)\n",
    "        tf_test_dataset = tf.constant(test_dataset)\n",
    "\n",
    "        ###########\n",
    "        # Variables\n",
    "        ###########\n",
    "\n",
    "        # Hidden Layer (RELU)\n",
    "\n",
    "        hidden_weights = tf.Variable(tf.truncated_normal([flat_image_size, num_hidden_nodes]))\n",
    "        hidden_biases = tf.Variable(tf.zeros([num_hidden_nodes]))\n",
    "        hidden_results = tf.nn.relu(tf.matmul(tf_train_dataset, hidden_weights) + hidden_biases)\n",
    "\n",
    "        # Output Layer\n",
    "\n",
    "        output_weights = tf.Variable(tf.truncated_normal([num_hidden_nodes, num_labels]))\n",
    "        output_biases = tf.Variable(tf.zeros([num_labels]))\n",
    "\n",
    "        ##########\n",
    "        # Training\n",
    "        ##########\n",
    "\n",
    "        logits = 0\n",
    "        if (use_dropout):\n",
    "            logits = tf.matmul(tf.nn.dropout(hidden_results, 0.5), output_weights) + output_biases\n",
    "        else:\n",
    "            logits = tf.matmul(hidden_results, output_weights) + output_biases\n",
    "        loss = tf.reduce_mean(tf.nn.softmax_cross_entropy_with_logits(logits, tf_train_labels))\n",
    "\n",
    "        # L2 Regularization\n",
    "\n",
    "        regularization = tf.nn.l2_loss(hidden_weights) + tf.nn.l2_loss(hidden_biases) + tf.nn.l2_loss(output_weights) + tf.nn.l2_loss(output_biases)\n",
    "        loss = loss + (regularization_beta * regularization)\n",
    "\n",
    "        # Optimizer\n",
    "\n",
    "        optimizer = tf.train.GradientDescentOptimizer(0.5).minimize(loss)\n",
    "\n",
    "        ############\n",
    "        # Prediction\n",
    "        ############\n",
    "\n",
    "        train_prediction = tf.nn.softmax(logits)\n",
    "\n",
    "        hidden_valid_prediction = tf.nn.relu(tf.matmul(tf_valid_dataset, hidden_weights) + hidden_biases)\n",
    "        valid_prediction = tf.nn.softmax(tf.matmul(hidden_valid_prediction, output_weights) + output_biases)\n",
    "\n",
    "        hidden_test_prediction = tf.nn.relu(tf.matmul(tf_test_dataset, hidden_weights) + hidden_biases)\n",
    "        test_prediction = tf.nn.softmax(tf.matmul(hidden_test_prediction, output_weights) + output_biases)\n",
    "        \n",
    "    return {\n",
    "        'graph': graph,\n",
    "        'tf_train_dataset': tf_train_dataset,\n",
    "        'tf_train_labels': tf_train_labels,\n",
    "        'tf_valid_dataset': tf_valid_dataset,\n",
    "        'tf_test_dataset': tf_test_dataset,\n",
    "        'loss': loss,\n",
    "        'optimizer': optimizer,\n",
    "        'train_prediction': train_prediction,\n",
    "        'valid_prediction': valid_prediction,\n",
    "        'test_prediction': test_prediction\n",
    "    }"
   ]
  },
  {
   "cell_type": "code",
   "execution_count": 58,
   "metadata": {
    "collapsed": false
   },
   "outputs": [],
   "source": [
    "def execute_graph(graph_info, num_steps = 3001):\n",
    "    \n",
    "    ###########\n",
    "    # EXECUTION\n",
    "    ###########\n",
    "\n",
    "    graph = graph_info['graph'] \n",
    "    tf_train_dataset = graph_info['tf_train_dataset']\n",
    "    tf_train_labels = graph_info['tf_train_labels']\n",
    "    tf_valid_dataset = graph_info['tf_valid_dataset']\n",
    "    tf_test_dataset = graph_info['tf_test_dataset']\n",
    "    loss = graph_info['loss']\n",
    "    optimizer = graph_info['optimizer']\n",
    "    train_prediction = graph_info['train_prediction']\n",
    "    valid_prediction = graph_info['valid_prediction'] \n",
    "    test_prediction = graph_info['test_prediction']\n",
    "\n",
    "    with tf.Session(graph=graph) as Session:\n",
    "\n",
    "        tf.initialize_all_variables().run()\n",
    "\n",
    "        for step in range(num_steps):\n",
    "\n",
    "            # Generate a mini-batch\n",
    "            offset = (batch_size * step) % (train_labels.shape[0] - batch_size)\n",
    "            batch_dataset = train_dataset[offset:(offset + batch_size), :]\n",
    "            batch_labels = train_labels[offset:(offset + batch_size), :]\n",
    "\n",
    "            # Feed the mini-batch to the session\n",
    "            feed_dict = {\n",
    "                tf_train_dataset: batch_dataset,\n",
    "                tf_train_labels: batch_labels\n",
    "            }\n",
    "            _, l, predictions = Session.run([optimizer, loss, train_prediction], feed_dict=feed_dict)\n",
    "\n",
    "            # Print progress\n",
    "            if (step % 500 == 0):\n",
    "                print(\"Mini-batch loss at step %d: %f\" % (step, l))\n",
    "                print(\"Mini-batch accuracy: %.1f%%\" % (accuracy(predictions, batch_labels)))\n",
    "                print(\"Validation accuracy: %.1f%%\" % (accuracy(valid_prediction.eval(), valid_labels)))\n",
    "\n",
    "        print(\"Test accuracy: %.1f%%\" % (accuracy(test_prediction.eval(), test_labels)))\n",
    "        "
   ]
  },
  {
   "cell_type": "code",
   "execution_count": 52,
   "metadata": {
    "collapsed": true
   },
   "outputs": [],
   "source": [
    "####################\n",
    "# Training Variables\n",
    "####################\n",
    "\n",
    "batch_size = 128\n",
    "num_steps = 1001"
   ]
  },
  {
   "cell_type": "code",
   "execution_count": 39,
   "metadata": {
    "collapsed": false
   },
   "outputs": [
    {
     "name": "stdout",
     "output_type": "stream",
     "text": [
      "Mini-batch loss at step 0: 18.274147\n",
      "Mini-batch accuracy: 7.8%\n",
      "Validation accuracy: 8.3%\n",
      "Mini-batch loss at step 500: 2.390781\n",
      "Mini-batch accuracy: 75.8%\n",
      "Validation accuracy: 75.5%\n",
      "Mini-batch loss at step 1000: 1.673430\n",
      "Mini-batch accuracy: 78.9%\n",
      "Validation accuracy: 76.8%\n",
      "Test accuracy: 84.0%\n"
     ]
    }
   ],
   "source": [
    "#####################\n",
    "# Logistic Regression\n",
    "#####################\n",
    "\n",
    "logistic_graph_info = generate_logistic_graph(batch_size)\n",
    "execute_graph(logistic_graph_info, num_steps)"
   ]
  },
  {
   "cell_type": "code",
   "execution_count": 53,
   "metadata": {
    "collapsed": false
   },
   "outputs": [
    {
     "name": "stdout",
     "output_type": "stream",
     "text": [
      "Mini-batch loss at step 0: 535.249634\n",
      "Mini-batch accuracy: 7.0%\n",
      "Validation accuracy: 32.4%\n",
      "Mini-batch loss at step 500: 135.204346\n",
      "Mini-batch accuracy: 85.2%\n",
      "Validation accuracy: 80.5%\n",
      "Mini-batch loss at step 1000: 99.102890\n",
      "Mini-batch accuracy: 82.8%\n",
      "Validation accuracy: 79.7%\n",
      "Test accuracy: 86.4%\n"
     ]
    }
   ],
   "source": [
    "################\n",
    "# Neural Network\n",
    "################\n",
    "\n",
    "nn_graph_info = generate_nn_graph(batch_size)\n",
    "execute_graph(nn_graph_info, num_steps)"
   ]
  },
  {
   "cell_type": "markdown",
   "metadata": {
    "colab_type": "text",
    "id": "na8xX2yHZzNF"
   },
   "source": [
    "---\n",
    "Problem 2\n",
    "---------\n",
    "Let's demonstrate an extreme case of overfitting. Restrict your training data to just a few batches. What happens?\n",
    "\n",
    "---"
   ]
  },
  {
   "cell_type": "code",
   "execution_count": 67,
   "metadata": {
    "collapsed": true
   },
   "outputs": [],
   "source": [
    "####################\n",
    "# Training Variables\n",
    "####################\n",
    "\n",
    "batch_size = 16\n",
    "num_steps = 1001"
   ]
  },
  {
   "cell_type": "code",
   "execution_count": 68,
   "metadata": {
    "collapsed": false
   },
   "outputs": [
    {
     "name": "stdout",
     "output_type": "stream",
     "text": [
      "Mini-batch loss at step 0: 17.954659\n",
      "Mini-batch accuracy: 0.0%\n",
      "Validation accuracy: 13.6%\n",
      "Mini-batch loss at step 500: 2.436039\n",
      "Mini-batch accuracy: 81.2%\n",
      "Validation accuracy: 74.4%\n",
      "Mini-batch loss at step 1000: 2.996360\n",
      "Mini-batch accuracy: 68.8%\n",
      "Validation accuracy: 69.7%\n",
      "Test accuracy: 75.1%\n"
     ]
    }
   ],
   "source": [
    "#####################\n",
    "# Logistic Regression\n",
    "#####################\n",
    "\n",
    "logistic_graph_info = generate_logistic_graph(batch_size)\n",
    "execute_graph(logistic_graph_info, num_steps)"
   ]
  },
  {
   "cell_type": "code",
   "execution_count": 69,
   "metadata": {
    "collapsed": false
   },
   "outputs": [
    {
     "name": "stdout",
     "output_type": "stream",
     "text": [
      "Mini-batch loss at step 0: 479.940735\n",
      "Mini-batch accuracy: 12.5%\n",
      "Validation accuracy: 17.6%\n",
      "Mini-batch loss at step 500: 334.586060\n",
      "Mini-batch accuracy: 68.8%\n",
      "Validation accuracy: 62.9%\n",
      "Mini-batch loss at step 1000: 183.660278\n",
      "Mini-batch accuracy: 56.2%\n",
      "Validation accuracy: 57.6%\n",
      "Test accuracy: 62.8%\n"
     ]
    }
   ],
   "source": [
    "################\n",
    "# Neural Network\n",
    "################\n",
    "\n",
    "nn_graph_info = generate_nn_graph(batch_size)\n",
    "execute_graph(nn_graph_info, num_steps)"
   ]
  },
  {
   "cell_type": "markdown",
   "metadata": {
    "colab_type": "text",
    "id": "ww3SCBUdlkRc"
   },
   "source": [
    "---\n",
    "Problem 3\n",
    "---------\n",
    "Introduce Dropout on the hidden layer of the neural network. Remember: Dropout should only be introduced during training, not evaluation, otherwise your evaluation results would be stochastic as well. TensorFlow provides `nn.dropout()` for that, but you have to make sure it's only inserted during training.\n",
    "\n",
    "What happens to our extreme overfitting case?\n",
    "\n",
    "---"
   ]
  },
  {
   "cell_type": "code",
   "execution_count": 70,
   "metadata": {
    "collapsed": false
   },
   "outputs": [
    {
     "name": "stdout",
     "output_type": "stream",
     "text": [
      "Mini-batch loss at step 0: 672.162598\n",
      "Mini-batch accuracy: 0.0%\n",
      "Validation accuracy: 24.9%\n",
      "Mini-batch loss at step 500: 9037046597388599296.000000\n",
      "Mini-batch accuracy: 31.2%\n",
      "Validation accuracy: 45.3%\n",
      "Mini-batch loss at step 1000: 10629556054103407020477756460761088.000000\n",
      "Mini-batch accuracy: 37.5%\n",
      "Validation accuracy: 32.1%\n",
      "Test accuracy: 33.9%\n"
     ]
    }
   ],
   "source": [
    "################\n",
    "# Neural Network\n",
    "################\n",
    "\n",
    "nn_graph_info = generate_nn_graph(batch_size, True)\n",
    "execute_graph(nn_graph_info, num_steps)"
   ]
  },
  {
   "cell_type": "markdown",
   "metadata": {
    "colab_type": "text",
    "id": "-b1hTz3VWZjw"
   },
   "source": [
    "---\n",
    "Problem 4\n",
    "---------\n",
    "\n",
    "Try to get the best performance you can using a multi-layer model! The best reported test accuracy using a deep network is [97.1%](http://yaroslavvb.blogspot.com/2011/09/notmnist-dataset.html?showComment=1391023266211#c8758720086795711595).\n",
    "\n",
    "One avenue you can explore is to add multiple layers.\n",
    "\n",
    "Another one is to use learning rate decay:\n",
    "\n",
    "    global_step = tf.Variable(0)  # count the number of steps taken.\n",
    "    learning_rate = tf.train.exponential_decay(0.5, step, ...)\n",
    "    optimizer = tf.train.GradientDescentOptimizer(learning_rate).minimize(loss, global_step=global_step)\n",
    " \n",
    " ---\n"
   ]
  },
  {
   "cell_type": "markdown",
   "metadata": {},
   "source": [
    "---\n",
    "References\n",
    "===\n",
    "\n",
    "https://github.com/giubil/udacity-deep-learning"
   ]
  },
  {
   "cell_type": "code",
   "execution_count": null,
   "metadata": {
    "collapsed": true
   },
   "outputs": [],
   "source": []
  }
 ],
 "metadata": {
  "colab": {
   "default_view": {},
   "name": "3_regularization.ipynb",
   "provenance": [],
   "version": "0.3.2",
   "views": {}
  },
  "kernelspec": {
   "display_name": "Python 2",
   "language": "python",
   "name": "python2"
  },
  "language_info": {
   "codemirror_mode": {
    "name": "ipython",
    "version": 2
   },
   "file_extension": ".py",
   "mimetype": "text/x-python",
   "name": "python",
   "nbconvert_exporter": "python",
   "pygments_lexer": "ipython2",
   "version": "2.7.6"
  }
 },
 "nbformat": 4,
 "nbformat_minor": 0
}
